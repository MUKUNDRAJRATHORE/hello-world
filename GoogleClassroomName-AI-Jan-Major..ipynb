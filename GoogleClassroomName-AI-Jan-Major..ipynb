{
 "cells": [
  {
   "cell_type": "code",
   "execution_count": 1,
   "metadata": {},
   "outputs": [
    {
     "name": "stderr",
     "output_type": "stream",
     "text": [
      "Using TensorFlow backend.\n"
     ]
    }
   ],
   "source": [
    " \n",
    "\n",
    "import numpy as np # linear algebra\n",
    "import keras\n",
    "from keras.datasets import cifar10\n",
    "from keras.utils import np_utils\n",
    "from keras.models import Model\n",
    "from keras.layers import Input, Dense, Flatten, Dropout, BatchNormalization\n",
    "from keras.applications.vgg16 import VGG16\n",
    "from keras.callbacks import EarlyStopping, ModelCheckpoint\n",
    "from sklearn.metrics import accuracy_score\n",
    "from keras.preprocessing.image import ImageDataGenerator"
   ]
  },
  {
   "cell_type": "code",
   "execution_count": 2,
   "metadata": {},
   "outputs": [],
   "source": [
    "LABEL_NAMES = ['Plane', 'Car', 'Bird', 'Cat', 'Deer', 'Dog', 'Frog', 'Horse', 'Ship', 'Truck']\n",
    "\n",
    "VALIDATION_SIZE = 10000"
   ]
  },
  {
   "cell_type": "code",
   "execution_count": 3,
   "metadata": {},
   "outputs": [],
   "source": [
    "(x_train_all, y_train_all), (x_test, y_test) = cifar10.load_data()\n"
   ]
  },
  {
   "cell_type": "code",
   "execution_count": 4,
   "metadata": {},
   "outputs": [
    {
     "data": {
      "text/plain": [
       "'Truck'"
      ]
     },
     "execution_count": 4,
     "metadata": {},
     "output_type": "execute_result"
    }
   ],
   "source": [
    "LABEL_NAMES[y_train_all[1][0]]"
   ]
  },
  {
   "cell_type": "code",
   "execution_count": 5,
   "metadata": {},
   "outputs": [],
   "source": [
    "x_train_all = x_train_all /255.0\n",
    "x_test = x_test /255.0 "
   ]
  },
  {
   "cell_type": "code",
   "execution_count": 6,
   "metadata": {},
   "outputs": [
    {
     "data": {
      "text/plain": [
       "(10000, 32, 32, 3)"
      ]
     },
     "execution_count": 6,
     "metadata": {},
     "output_type": "execute_result"
    }
   ],
   "source": [
    "x_val = x_train_all[:VALIDATION_SIZE]\n",
    "y_val = y_train_all[:VALIDATION_SIZE]\n",
    "x_val.shape"
   ]
  },
  {
   "cell_type": "code",
   "execution_count": 7,
   "metadata": {},
   "outputs": [
    {
     "data": {
      "text/plain": [
       "(40000, 32, 32, 3)"
      ]
     },
     "execution_count": 7,
     "metadata": {},
     "output_type": "execute_result"
    }
   ],
   "source": [
    "x_train = x_train_all[VALIDATION_SIZE:]\n",
    "y_train = y_train_all[VALIDATION_SIZE:]\n",
    "x_train.shape"
   ]
  },
  {
   "cell_type": "code",
   "execution_count": 8,
   "metadata": {},
   "outputs": [
    {
     "name": "stdout",
     "output_type": "stream",
     "text": [
      "[[0. 0. 0. ... 0. 0. 0.]\n",
      " [0. 0. 0. ... 0. 0. 1.]\n",
      " [0. 0. 0. ... 0. 0. 1.]\n",
      " ...\n",
      " [0. 1. 0. ... 0. 0. 0.]\n",
      " [0. 1. 0. ... 0. 0. 0.]\n",
      " [0. 0. 0. ... 0. 0. 0.]]\n"
     ]
    },
    {
     "data": {
      "text/plain": [
       "(10000, 10)"
      ]
     },
     "execution_count": 8,
     "metadata": {},
     "output_type": "execute_result"
    }
   ],
   "source": [
    " \n",
    "y_train_ohe = np_utils.to_categorical(y_train, num_classes=10)\n",
    "y_test_ohe = np_utils.to_categorical(y_test, num_classes=10)\n",
    "y_val_ohe = np_utils.to_categorical(y_val, num_classes=10)\n",
    "\n",
    "print(y_val_ohe)\n",
    "y_val_ohe.shape"
   ]
  },
  {
   "cell_type": "code",
   "execution_count": 9,
   "metadata": {},
   "outputs": [
    {
     "name": "stdout",
     "output_type": "stream",
     "text": [
      "Model: \"model_1\"\n",
      "_________________________________________________________________\n",
      "Layer (type)                 Output Shape              Param #   \n",
      "=================================================================\n",
      "input_1 (InputLayer)         (None, 32, 32, 3)         0         \n",
      "_________________________________________________________________\n",
      "block1_conv1 (Conv2D)        (None, 32, 32, 64)        1792      \n",
      "_________________________________________________________________\n",
      "block1_conv2 (Conv2D)        (None, 32, 32, 64)        36928     \n",
      "_________________________________________________________________\n",
      "block1_pool (MaxPooling2D)   (None, 16, 16, 64)        0         \n",
      "_________________________________________________________________\n",
      "block2_conv1 (Conv2D)        (None, 16, 16, 128)       73856     \n",
      "_________________________________________________________________\n",
      "block2_conv2 (Conv2D)        (None, 16, 16, 128)       147584    \n",
      "_________________________________________________________________\n",
      "block2_pool (MaxPooling2D)   (None, 8, 8, 128)         0         \n",
      "_________________________________________________________________\n",
      "block3_conv1 (Conv2D)        (None, 8, 8, 256)         295168    \n",
      "_________________________________________________________________\n",
      "block3_conv2 (Conv2D)        (None, 8, 8, 256)         590080    \n",
      "_________________________________________________________________\n",
      "block3_conv3 (Conv2D)        (None, 8, 8, 256)         590080    \n",
      "_________________________________________________________________\n",
      "block3_pool (MaxPooling2D)   (None, 4, 4, 256)         0         \n",
      "_________________________________________________________________\n",
      "block4_conv1 (Conv2D)        (None, 4, 4, 512)         1180160   \n",
      "_________________________________________________________________\n",
      "block4_conv2 (Conv2D)        (None, 4, 4, 512)         2359808   \n",
      "_________________________________________________________________\n",
      "block4_conv3 (Conv2D)        (None, 4, 4, 512)         2359808   \n",
      "_________________________________________________________________\n",
      "block4_pool (MaxPooling2D)   (None, 2, 2, 512)         0         \n",
      "_________________________________________________________________\n",
      "block5_conv1 (Conv2D)        (None, 2, 2, 512)         2359808   \n",
      "_________________________________________________________________\n",
      "block5_conv2 (Conv2D)        (None, 2, 2, 512)         2359808   \n",
      "_________________________________________________________________\n",
      "block5_conv3 (Conv2D)        (None, 2, 2, 512)         2359808   \n",
      "_________________________________________________________________\n",
      "block5_pool (MaxPooling2D)   (None, 1, 1, 512)         0         \n",
      "_________________________________________________________________\n",
      "flatten_1 (Flatten)          (None, 512)               0         \n",
      "_________________________________________________________________\n",
      "dense_1 (Dense)              (None, 128)               65664     \n",
      "_________________________________________________________________\n",
      "batch_normalization_1 (Batch (None, 128)               512       \n",
      "_________________________________________________________________\n",
      "dropout_1 (Dropout)          (None, 128)               0         \n",
      "_________________________________________________________________\n",
      "dense_2 (Dense)              (None, 64)                8256      \n",
      "_________________________________________________________________\n",
      "batch_normalization_2 (Batch (None, 64)                256       \n",
      "_________________________________________________________________\n",
      "output (Dense)               (None, 10)                650       \n",
      "=================================================================\n",
      "Total params: 14,790,026\n",
      "Trainable params: 14,789,642\n",
      "Non-trainable params: 384\n",
      "_________________________________________________________________\n"
     ]
    }
   ],
   "source": [
    "def create_cnn_model():\n",
    "    image_input = Input(shape=(32, 32, 3))\n",
    "    \n",
    "    vgg_model  = VGG16(weights='imagenet',include_top=False, input_tensor=image_input)\n",
    "    \n",
    "    flatt = Flatten()(vgg_model.output)\n",
    "    \n",
    "    couche1 = Dense(128, activation='relu')(flatt) \n",
    "    couche1_normalization = BatchNormalization()(couche1)\n",
    "    couche1_dropout = Dropout(0.2)(couche1_normalization)\n",
    "    couche2 = Dense(64, activation='relu')(couche1_dropout)\n",
    "    couche2_normalization = BatchNormalization()(couche2)\n",
    "    output = Dense(10, activation='softmax', name='output')(couche2_normalization)     \n",
    "    model = Model( image_input, output )\n",
    "    return model\n",
    "\n",
    "model = create_cnn_model()\n",
    "model.summary()"
   ]
  },
  {
   "cell_type": "code",
   "execution_count": 10,
   "metadata": {},
   "outputs": [],
   "source": [
    "model.compile(optimizer='adam', \n",
    "              loss='categorical_crossentropy',\n",
    "                metrics=['accuracy'])"
   ]
  },
  {
   "cell_type": "code",
   "execution_count": 11,
   "metadata": {
    "scrolled": true
   },
   "outputs": [
    {
     "name": "stdout",
     "output_type": "stream",
     "text": [
      "Epoch 1/20\n",
      "800/800 [==============================] - 937s 1s/step - loss: 1.9931 - accuracy: 0.2016 - val_loss: 3.4398 - val_accuracy: 0.1185\n",
      "Epoch 2/20\n",
      "800/800 [==============================] - 928s 1s/step - loss: 1.8190 - accuracy: 0.2672 - val_loss: 9.2347 - val_accuracy: 0.2139\n",
      "Epoch 3/20\n",
      "800/800 [==============================] - 902s 1s/step - loss: 1.6055 - accuracy: 0.3587 - val_loss: 2.9505 - val_accuracy: 0.1663\n",
      "Epoch 4/20\n",
      "800/800 [==============================] - 918s 1s/step - loss: 1.4588 - accuracy: 0.4264 - val_loss: 1.4299 - val_accuracy: 0.4574\n",
      "Epoch 5/20\n",
      "800/800 [==============================] - 931s 1s/step - loss: 1.3709 - accuracy: 0.4671 - val_loss: 1.3112 - val_accuracy: 0.4940\n",
      "Epoch 6/20\n",
      "800/800 [==============================] - 918s 1s/step - loss: 1.2799 - accuracy: 0.5088 - val_loss: 1.3034 - val_accuracy: 0.4923\n",
      "Epoch 7/20\n",
      "800/800 [==============================] - 914s 1s/step - loss: 1.2388 - accuracy: 0.5316 - val_loss: 417.9929 - val_accuracy: 0.5535\n",
      "Epoch 8/20\n",
      "800/800 [==============================] - 917s 1s/step - loss: 1.2038 - accuracy: 0.5476 - val_loss: 1.2226 - val_accuracy: 0.5365\n",
      "Epoch 9/20\n",
      "800/800 [==============================] - 912s 1s/step - loss: 1.1164 - accuracy: 0.5873 - val_loss: 683.8272 - val_accuracy: 0.6323\n",
      "Epoch 10/20\n",
      "800/800 [==============================] - 1181s 1s/step - loss: 1.0547 - accuracy: 0.6176 - val_loss: 0.9829 - val_accuracy: 0.6333\n",
      "Epoch 11/20\n",
      "800/800 [==============================] - 909s 1s/step - loss: 0.9761 - accuracy: 0.6538 - val_loss: 1.1011 - val_accuracy: 0.6169\n",
      "Epoch 12/20\n",
      "800/800 [==============================] - 901s 1s/step - loss: 0.8901 - accuracy: 0.6857 - val_loss: 0.8721 - val_accuracy: 0.6983\n",
      "Epoch 13/20\n",
      "800/800 [==============================] - 884s 1s/step - loss: 0.8412 - accuracy: 0.7088 - val_loss: 0.7491 - val_accuracy: 0.7348\n",
      "Epoch 14/20\n",
      "800/800 [==============================] - 916s 1s/step - loss: 0.7894 - accuracy: 0.7279 - val_loss: 218344.0100 - val_accuracy: 0.7467\n",
      "Epoch 15/20\n",
      "800/800 [==============================] - 948s 1s/step - loss: 0.7467 - accuracy: 0.7448 - val_loss: 502.0556 - val_accuracy: 0.7510\n",
      "Epoch 16/20\n",
      "800/800 [==============================] - 962s 1s/step - loss: 0.6911 - accuracy: 0.7664 - val_loss: 0.6177 - val_accuracy: 0.7912\n",
      "Epoch 17/20\n",
      "800/800 [==============================] - 982s 1s/step - loss: 0.6728 - accuracy: 0.7750 - val_loss: 0.6036 - val_accuracy: 0.7944\n",
      "Epoch 18/20\n",
      "800/800 [==============================] - 942s 1s/step - loss: 0.6291 - accuracy: 0.7898 - val_loss: 0.6454 - val_accuracy: 0.7831\n",
      "Epoch 19/20\n",
      "800/800 [==============================] - 936s 1s/step - loss: 0.6102 - accuracy: 0.7974 - val_loss: 0.6256 - val_accuracy: 0.7897\n",
      "Epoch 20/20\n",
      "800/800 [==============================] - 969s 1s/step - loss: 0.5913 - accuracy: 0.8055 - val_loss: 0.6387 - val_accuracy: 0.7908\n",
      " LE SCORE DE TEST :  0.7944\n",
      "\n"
     ]
    }
   ],
   "source": [
    " \n",
    "datagen = ImageDataGenerator(width_shift_range=0.1, height_shift_range=0.1, horizontal_flip= True)\n",
    "es = EarlyStopping(patience=10, monitor='val_accuracy', mode='max')\n",
    "mc = ModelCheckpoint('./weights.h5', monitor='val_accuracy', mode='max', save_best_only=True)\n",
    "\n",
    "model.fit_generator(datagen.flow(x_train, y_train_ohe,batch_size = 32), steps_per_epoch = 800, epochs=20, validation_data=[x_val, y_val_ohe], callbacks = [es,mc])\n",
    "# Load The Best weights in the ModelCheckpoint\n",
    "model.load_weights('./weights.h5')\n",
    "\n",
    "# Predict The Test\n",
    "preds = model.predict(x_val)\n",
    "score_test = accuracy_score( y_val, np.argmax(preds, axis=1) )\n",
    "\n",
    "print (' LE SCORE DE TEST : ', score_test)\n",
    "print('')\n"
   ]
  },
  {
   "cell_type": "code",
   "execution_count": 12,
   "metadata": {},
   "outputs": [
    {
     "name": "stdout",
     "output_type": "stream",
     "text": [
      "10000/10000 [==============================] - 125s 12ms/step\n",
      ">79.560\n"
     ]
    }
   ],
   "source": [
    "# after fit we can evaluate our model\n",
    "_, evaluate = model.evaluate(x_test, y_test_ohe, verbose=1)\n",
    "print('>%.3f' % (evaluate * 100.0))"
   ]
  },
  {
   "cell_type": "code",
   "execution_count": null,
   "metadata": {},
   "outputs": [],
   "source": []
  }
 ],
 "metadata": {
  "kernelspec": {
   "display_name": "Python 3",
   "language": "python",
   "name": "python3"
  },
  "language_info": {
   "codemirror_mode": {
    "name": "ipython",
    "version": 3
   },
   "file_extension": ".py",
   "mimetype": "text/x-python",
   "name": "python",
   "nbconvert_exporter": "python",
   "pygments_lexer": "ipython3",
   "version": "3.7.4"
  }
 },
 "nbformat": 4,
 "nbformat_minor": 2
}
